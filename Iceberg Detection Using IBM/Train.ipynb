{
 "cells": [
  {
   "cell_type": "code",
   "execution_count": 1,
   "metadata": {},
   "outputs": [],
   "source": [
    "from keras.preprocessing.image import ImageDataGenerator\n",
    "from keras.models import Sequential\n",
    "from keras.layers import Conv2D, MaxPooling2D, Dense, Dropout, Flatten\n",
    "from keras.layers import MaxPooling2D"
   ]
  },
  {
   "cell_type": "code",
   "execution_count": 2,
   "metadata": {},
   "outputs": [],
   "source": [
    "from keras.preprocessing.image import ImageDataGenerator\n",
    "train_datagen = ImageDataGenerator(rescale = 1./255,\n",
    "                                   shear_range = 0.2,\n",
    "                                   zoom_range = 0.2,\n",
    "                                   horizontal_flip = True)\n",
    "\n",
    "test_datagen = ImageDataGenerator(rescale = 1./255)"
   ]
  },
  {
   "cell_type": "code",
   "execution_count": 3,
   "metadata": {},
   "outputs": [
    {
     "name": "stdout",
     "output_type": "stream",
     "text": [
      "Found 1284 images belonging to 2 classes.\n",
      "Found 320 images belonging to 2 classes.\n"
     ]
    }
   ],
   "source": [
    "x_train = train_datagen.flow_from_directory(r'D:\\Iceberg Detection Using IBM\\Iceberg Detection dataset\\dataset\\train',target_size=(75,75),batch_size= 32, class_mode='binary')\n",
    "x_test = test_datagen.flow_from_directory(r'D:\\Iceberg Detection Using IBM\\Iceberg Detection dataset\\dataset\\test',target_size=(75,75),batch_size= 32, class_mode='binary')"
   ]
  },
  {
   "cell_type": "code",
   "execution_count": 4,
   "metadata": {},
   "outputs": [],
   "source": [
    "model=Sequential()"
   ]
  },
  {
   "cell_type": "code",
   "execution_count": 5,
   "metadata": {},
   "outputs": [],
   "source": [
    "model.add(Conv2D(64,(3,3), activation='relu', input_shape=(75,75,3)))"
   ]
  },
  {
   "cell_type": "code",
   "execution_count": 6,
   "metadata": {},
   "outputs": [],
   "source": [
    "model.add(MaxPooling2D(pool_size=(3,3), strides=(2,2)))"
   ]
  },
  {
   "cell_type": "code",
   "execution_count": 7,
   "metadata": {},
   "outputs": [],
   "source": [
    "model.add(Flatten())"
   ]
  },
  {
   "cell_type": "code",
   "execution_count": 8,
   "metadata": {},
   "outputs": [],
   "source": [
    "model.add(Dense(units= 512, kernel_initializer=\"uniform\", activation=\"relu\"))\n",
    "model.add(Dense(units = 256, kernel_initializer=\"uniform\", activation=\"relu\"))\n",
    "model.add(Dense(units = 1, kernel_initializer=\"uniform\", activation=\"sigmoid\"))"
   ]
  },
  {
   "cell_type": "code",
   "execution_count": 9,
   "metadata": {},
   "outputs": [],
   "source": [
    "model.compile(loss=\"binary_crossentropy\",optimizer=\"adam\",metrics=[\"accuracy\"])"
   ]
  },
  {
   "cell_type": "code",
   "execution_count": 10,
   "metadata": {},
   "outputs": [
    {
     "name": "stderr",
     "output_type": "stream",
     "text": [
      "C:\\Users\\SAKTHI~1\\AppData\\Local\\Temp/ipykernel_13296/2934396304.py:1: UserWarning: `Model.fit_generator` is deprecated and will be removed in a future version. Please use `Model.fit`, which supports generators.\n",
      "  model.fit_generator(x_train,steps_per_epoch=40, epochs= 10, validation_data=x_test, validation_steps=10)\n"
     ]
    },
    {
     "name": "stdout",
     "output_type": "stream",
     "text": [
      "Epoch 1/10\n",
      "40/40 [==============================] - 67s 1s/step - loss: 0.7461 - accuracy: 0.5264 - val_loss: 0.6835 - val_accuracy: 0.6625\n",
      "Epoch 2/10\n",
      "40/40 [==============================] - 36s 884ms/step - loss: 0.6759 - accuracy: 0.5719 - val_loss: 0.6340 - val_accuracy: 0.7250\n",
      "Epoch 3/10\n",
      "40/40 [==============================] - 48s 1s/step - loss: 0.6069 - accuracy: 0.6374 - val_loss: 0.6454 - val_accuracy: 0.7500\n",
      "Epoch 4/10\n",
      "40/40 [==============================] - 48s 1s/step - loss: 0.5964 - accuracy: 0.6765 - val_loss: 0.5301 - val_accuracy: 0.7531\n",
      "Epoch 5/10\n",
      "40/40 [==============================] - 41s 1s/step - loss: 0.5599 - accuracy: 0.6901 - val_loss: 0.5029 - val_accuracy: 0.7594\n",
      "Epoch 6/10\n",
      "40/40 [==============================] - 40s 1s/step - loss: 0.5187 - accuracy: 0.7228 - val_loss: 0.5609 - val_accuracy: 0.6594\n",
      "Epoch 7/10\n",
      "40/40 [==============================] - 39s 960ms/step - loss: 0.5196 - accuracy: 0.7356 - val_loss: 0.4491 - val_accuracy: 0.7937\n",
      "Epoch 8/10\n",
      "40/40 [==============================] - 38s 946ms/step - loss: 0.4727 - accuracy: 0.7716 - val_loss: 0.5157 - val_accuracy: 0.7094\n",
      "Epoch 9/10\n",
      "40/40 [==============================] - 38s 943ms/step - loss: 0.4539 - accuracy: 0.7947 - val_loss: 0.4395 - val_accuracy: 0.7937\n",
      "Epoch 10/10\n",
      "40/40 [==============================] - 43s 1s/step - loss: 0.4441 - accuracy: 0.7851 - val_loss: 0.4462 - val_accuracy: 0.7656\n"
     ]
    },
    {
     "data": {
      "text/plain": [
       "<keras.callbacks.History at 0x16cc74e1d30>"
      ]
     },
     "execution_count": 10,
     "metadata": {},
     "output_type": "execute_result"
    }
   ],
   "source": [
    "model.fit_generator(x_train,steps_per_epoch=40, epochs= 10, validation_data=x_test, validation_steps=10)"
   ]
  },
  {
   "cell_type": "code",
   "execution_count": 11,
   "metadata": {},
   "outputs": [],
   "source": [
    "model.save(\"iceberg.h5\")"
   ]
  },
  {
   "cell_type": "code",
   "execution_count": 12,
   "metadata": {},
   "outputs": [
    {
     "data": {
      "text/plain": [
       "'2.7.0'"
      ]
     },
     "execution_count": 12,
     "metadata": {},
     "output_type": "execute_result"
    }
   ],
   "source": [
    "import tensorflow\n",
    "tensorflow.__version__\n"
   ]
  },
  {
   "cell_type": "code",
   "execution_count": 13,
   "metadata": {},
   "outputs": [
    {
     "data": {
      "text/plain": [
       "{'Iceberg': 0, 'Ship': 1}"
      ]
     },
     "execution_count": 13,
     "metadata": {},
     "output_type": "execute_result"
    }
   ],
   "source": [
    "x_train.class_indices"
   ]
  },
  {
   "cell_type": "code",
   "execution_count": null,
   "metadata": {},
   "outputs": [],
   "source": []
  }
 ],
 "metadata": {
  "kernelspec": {
   "display_name": "Python 3 (ipykernel)",
   "language": "python",
   "name": "python3"
  },
  "language_info": {
   "codemirror_mode": {
    "name": "ipython",
    "version": 3
   },
   "file_extension": ".py",
   "mimetype": "text/x-python",
   "name": "python",
   "nbconvert_exporter": "python",
   "pygments_lexer": "ipython3",
   "version": "3.9.7"
  }
 },
 "nbformat": 4,
 "nbformat_minor": 2
}
